{
 "cells": [
  {
   "cell_type": "markdown",
   "id": "d7295c98-7747-4a5e-95de-a26fc97d854d",
   "metadata": {},
   "source": [
    "## Exercise 1: PRIME NUMBER"
   ]
  },
  {
   "cell_type": "code",
   "execution_count": 88,
   "id": "815f4e3e-6fcd-40c2-a85b-14cb0077f1fa",
   "metadata": {},
   "outputs": [
    {
     "name": "stdin",
     "output_type": "stream",
     "text": [
      "Enter a number:  23\n"
     ]
    },
    {
     "name": "stdout",
     "output_type": "stream",
     "text": [
      "23, is a Prime number\n"
     ]
    }
   ],
   "source": [
    "num = int(input(\"Enter a number: \"))\n",
    "if num == 1:\n",
    "    print(f\"{num},Not a Prime number \")\n",
    "elif num > 1:\n",
    "    for i in range(2, num):\n",
    "        if num % i == 0:\n",
    "            print(f\"{num},is Not a Prime number\")\n",
    "            break\n",
    "    else:\n",
    "        print(f\"{num}, is a Prime number\")"
   ]
  },
  {
   "cell_type": "markdown",
   "id": "0aa76330-9550-42ba-99ff-f513eb481bca",
   "metadata": {},
   "source": [
    "## Exercise 2: PRODUCT OF RANDOM NUMBERS"
   ]
  },
  {
   "cell_type": "code",
   "execution_count": 106,
   "id": "e4d22422-329e-4cf5-995e-32468a426cf8",
   "metadata": {},
   "outputs": [
    {
     "name": "stdout",
     "output_type": "stream",
     "text": [
      "What is 6 * 7 ?\n"
     ]
    },
    {
     "name": "stdin",
     "output_type": "stream",
     "text": [
      "Enter your answer:  42\n"
     ]
    },
    {
     "name": "stdout",
     "output_type": "stream",
     "text": [
      "Correct\n"
     ]
    }
   ],
   "source": [
    "import random\n",
    "a = random.randint(1, 10)\n",
    "b = random.randint(1, 20)\n",
    "print(\"What is\", a, \"*\", b, \"?\")\n",
    "ans = int(input(\"Enter your answer: \"))\n",
    "if ans == a * b:\n",
    "    print(\"Correct\")\n",
    "else:\n",
    "    print(\"Wrong\")\n"
   ]
  },
  {
   "cell_type": "markdown",
   "id": "87ec2008-ebfa-461c-b759-45e303c6e93c",
   "metadata": {},
   "source": [
    "## Exercise 3: Squares of Even/Odd Numbers"
   ]
  },
  {
   "cell_type": "code",
   "execution_count": 118,
   "id": "ad7313d3-4dcf-4251-b6b0-b5802501d03b",
   "metadata": {},
   "outputs": [
    {
     "name": "stdout",
     "output_type": "stream",
     "text": [
      "Squares of the  Even numbers from 100 to 200:\n",
      "100² = 10000\n",
      "102² = 10404\n",
      "104² = 10816\n",
      "106² = 11236\n",
      "108² = 11664\n",
      "110² = 12100\n",
      "112² = 12544\n",
      "114² = 12996\n",
      "116² = 13456\n",
      "118² = 13924\n",
      "120² = 14400\n",
      "122² = 14884\n",
      "124² = 15376\n",
      "126² = 15876\n",
      "128² = 16384\n",
      "130² = 16900\n",
      "132² = 17424\n",
      "134² = 17956\n",
      "136² = 18496\n",
      "138² = 19044\n",
      "140² = 19600\n",
      "142² = 20164\n",
      "144² = 20736\n",
      "146² = 21316\n",
      "148² = 21904\n",
      "150² = 22500\n",
      "152² = 23104\n",
      "154² = 23716\n",
      "156² = 24336\n",
      "158² = 24964\n",
      "160² = 25600\n",
      "162² = 26244\n",
      "164² = 26896\n",
      "166² = 27556\n",
      "168² = 28224\n",
      "170² = 28900\n",
      "172² = 29584\n",
      "174² = 30276\n",
      "176² = 30976\n",
      "178² = 31684\n",
      "180² = 32400\n",
      "182² = 33124\n",
      "184² = 33856\n",
      "186² = 34596\n",
      "188² = 35344\n",
      "190² = 36100\n",
      "192² = 36864\n",
      "194² = 37636\n",
      "196² = 38416\n",
      "198² = 39204\n",
      "200² = 40000\n"
     ]
    }
   ],
   "source": [
    "# Squares of Even/Odd Numbers\n",
    "# This program prints squares of  even numbers between 100 and 200.\n",
    "print(\"Squares of the  Even numbers from 100 to 200:\")\n",
    "for num in range(100, 201):\n",
    "    if num % 2 == 0:\n",
    "        print(f\"{num}² = {num ** 2}\")"
   ]
  },
  {
   "cell_type": "code",
   "execution_count": 119,
   "id": "9efd917c-911e-4338-a9a9-2c556fc79d47",
   "metadata": {},
   "outputs": [
    {
     "name": "stdout",
     "output_type": "stream",
     "text": [
      "Squares of the Odd numbers from 100 to 200:\n",
      "101² = 10201\n",
      "103² = 10609\n",
      "105² = 11025\n",
      "107² = 11449\n",
      "109² = 11881\n",
      "111² = 12321\n",
      "113² = 12769\n",
      "115² = 13225\n",
      "117² = 13689\n",
      "119² = 14161\n",
      "121² = 14641\n",
      "123² = 15129\n",
      "125² = 15625\n",
      "127² = 16129\n",
      "129² = 16641\n",
      "131² = 17161\n",
      "133² = 17689\n",
      "135² = 18225\n",
      "137² = 18769\n",
      "139² = 19321\n",
      "141² = 19881\n",
      "143² = 20449\n",
      "145² = 21025\n",
      "147² = 21609\n",
      "149² = 22201\n",
      "151² = 22801\n",
      "153² = 23409\n",
      "155² = 24025\n",
      "157² = 24649\n",
      "159² = 25281\n",
      "161² = 25921\n",
      "163² = 26569\n",
      "165² = 27225\n",
      "167² = 27889\n",
      "169² = 28561\n",
      "171² = 29241\n",
      "173² = 29929\n",
      "175² = 30625\n",
      "177² = 31329\n",
      "179² = 32041\n",
      "181² = 32761\n",
      "183² = 33489\n",
      "185² = 34225\n",
      "187² = 34969\n",
      "189² = 35721\n",
      "191² = 36481\n",
      "193² = 37249\n",
      "195² = 38025\n",
      "197² = 38809\n",
      "199² = 39601\n"
     ]
    }
   ],
   "source": [
    "# This program prints squares of odd numbers between 100 and 200\n",
    "print(\"Squares of the Odd numbers from 100 to 200:\")\n",
    "for num in range(100, 201):\n",
    "    if num % 2 != 0:\n",
    "        print(f\"{num}² = {num ** 2}\")"
   ]
  },
  {
   "cell_type": "markdown",
   "id": "9ced2445-f7a3-408d-85cc-eca9cb16f672",
   "metadata": {},
   "source": [
    "## Exercise 4: Word counter"
   ]
  },
  {
   "cell_type": "code",
   "execution_count": 135,
   "id": "4b4a4326-bcd4-4341-9ed8-b0fdd35f2114",
   "metadata": {},
   "outputs": [
    {
     "name": "stdout",
     "output_type": "stream",
     "text": [
      "This = 2\n",
      "is = 1\n",
      "a = 1\n",
      "sample = 1\n",
      "text. = 1\n",
      "This = 2\n",
      "text = 1\n",
      "will = 1\n",
      "be = 1\n",
      "used = 1\n",
      "to = 1\n",
      "demonstrate = 1\n",
      "the = 1\n",
      "word = 1\n",
      "counter. = 1\n"
     ]
    }
   ],
   "source": [
    "#word number\n",
    "data = \"This is a sample text. This text will be used to demonstrate the word counter.\"\n",
    "words = data.split()\n",
    "for word in words:\n",
    "     print(word,\"=\",words.count(word))"
   ]
  },
  {
   "cell_type": "markdown",
   "id": "019346e9-4180-4b7d-9445-98f8a9875a87",
   "metadata": {},
   "source": [
    "## Exercise 5: Check for Palindrome"
   ]
  },
  {
   "cell_type": "code",
   "execution_count": 158,
   "id": "771b9efe-b4b9-46e2-af0a-ca824bbb4bb2",
   "metadata": {},
   "outputs": [
    {
     "name": "stdin",
     "output_type": "stream",
     "text": [
      "Enter a word or sentence :  racecar\n"
     ]
    },
    {
     "name": "stdout",
     "output_type": "stream",
     "text": [
      "True\n"
     ]
    }
   ],
   "source": [
    "def is_palindrome(word):\n",
    "# Convert to lowercase and remove spaces\n",
    "    cleaned = word.lower()\n",
    "    return cleaned == cleaned[::-1]\n",
    "\n",
    "# Test\n",
    "word = input(\"Enter a word or sentence : \")\n",
    "if is_palindrome(word):\n",
    "    print(\"True\")\n",
    "else:\n",
    "    print(\"False\")\n"
   ]
  },
  {
   "cell_type": "code",
   "execution_count": null,
   "id": "f0a0c3bf-3071-4562-98d3-cdf9f730bcb5",
   "metadata": {},
   "outputs": [],
   "source": []
  }
 ],
 "metadata": {
  "kernelspec": {
   "display_name": "Python 3 (ipykernel)",
   "language": "python",
   "name": "python3"
  },
  "language_info": {
   "codemirror_mode": {
    "name": "ipython",
    "version": 3
   },
   "file_extension": ".py",
   "mimetype": "text/x-python",
   "name": "python",
   "nbconvert_exporter": "python",
   "pygments_lexer": "ipython3",
   "version": "3.12.7"
  }
 },
 "nbformat": 4,
 "nbformat_minor": 5
}
